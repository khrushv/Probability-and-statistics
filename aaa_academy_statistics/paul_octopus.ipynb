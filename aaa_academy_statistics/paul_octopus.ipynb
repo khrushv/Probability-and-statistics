{
 "cells": [
  {
   "cell_type": "markdown",
   "metadata": {},
   "source": [
    "$H_0$ : осьминог выбирает победителя матча случайно с вероятностью $p = 0.5$\n",
    "\n",
    "$H_1$ : осьминог выбирает победителя матча случайно с вероятностью $p > 0.5$\n",
    "\n",
    "В данной задаче логично использовать правый односторонний критерий, так как для нас будем значимым открытие о том, что $p > 0.5$. В этом случае осьминог выбирает победителя с большей вероятностью, нежели случайный выбор, поэтому в таком случае мы, например, будем ставить на победителя согласно прогнозу осьминога. Если же использовать двусторонний критерий и $H_1$ мы принимаем, то может оказаться, что $p < 0.5$, так как это не противоречит $H_1$. В этом случае бесмысленно слушать осьминога, аналогично в случае одностороннего левого критерия."
   ]
  },
  {
   "cell_type": "markdown",
   "metadata": {},
   "source": [
    "В качестве статистики возьмем $T(\\xi^n) = \\sum_{i=1}^n \\xi_i$  \n",
    "Реализация статистики в нашем эксперименте = $T(\\xi^n) = 12$ , где $n = 14$.\n",
    "\n",
    "Рассчитаем p-value, при условии справедливости $H_0, T \\sim \\text{Binom} (n=14, \\mu=0.5)$  "
   ]
  },
  {
   "cell_type": "code",
   "execution_count": 12,
   "metadata": {},
   "outputs": [
    {
     "name": "stdout",
     "output_type": "stream",
     "text": [
      "Вероятность получить T = 12, или еще более экстремальное значение при условии справедливости H0 = 0.00091552734375\n"
     ]
    }
   ],
   "source": [
    "from scipy.stats import binom\n",
    "import numpy as np\n",
    "import matplotlib.pyplot as plt\n",
    "T = 12\n",
    "N = 14\n",
    "m = 0.5\n",
    "p_value = 1 - binom.cdf(k = T, n = N, p = m)\n",
    "print(f\"Вероятность получить T = {T}, или еще более экстремальное значение при условии справедливости H0 = {p_value}\")"
   ]
  },
  {
   "cell_type": "markdown",
   "metadata": {},
   "source": [
    "Рассчитаем критическое значение для $ a = 0.05 $;"
   ]
  },
  {
   "cell_type": "code",
   "execution_count": 18,
   "metadata": {},
   "outputs": [
    {
     "name": "stdout",
     "output_type": "stream",
     "text": [
      "reject H0 if t >= 11\n"
     ]
    }
   ],
   "source": [
    "a = 0.05\n",
    "crit_value = binom.ppf(q = 1-a, n = N, p = m) + 1\n",
    "print(f'reject H0 if t >= {int(crit_value)}')"
   ]
  },
  {
   "cell_type": "markdown",
   "metadata": {},
   "source": [
    "Таким образом получаем статистический критерий для $H_0$ и $a = 0.05$, при $T >= 11$ отклоняем $H_0$, в противном случае у нас недостаточно свидетельств для того чтобы отклонить $H_0$\n",
    "\n",
    "Построим график плотности вероятности для того, чтобы посмотреть вероятности получения различных значений статистики:"
   ]
  },
  {
   "cell_type": "code",
   "execution_count": 16,
   "metadata": {},
   "outputs": [
    {
     "data": {
      "image/png": "[encoded data removed]",
      "text/plain": [
       "<Figure size 432x288 with 1 Axes>"
      ]
     },
     "metadata": {
      "needs_background": "light"
     },
     "output_type": "display_data"
    }
   ],
   "source": [
    "x = np.arange(start=0, stop=N + 1)\n",
    "fig, ax = plt.subplots(1, 1)\n",
    "ax.vlines(x, 0, binom.pmf(x, N, m), colors='k', linestyles='-', linewidth=8.0, label='pmf, $\\mu = 0.5$')\n",
    "ax.legend(loc='best', frameon=False)\n",
    "plt.show()"
   ]
  },
  {
   "cell_type": "markdown",
   "metadata": {},
   "source": [
    "Такой достигаемый уровень значимости можно обьяснить тем, что при условии справедливости нулевой гипотезы получить значение статистики $T = 12$ практически невозможно, поэтому p-value имеет такое малое значение."
   ]
  },
  {
   "cell_type": "code",
   "execution_count": null,
   "metadata": {},
   "outputs": [],
   "source": []
  }
 ],
 "metadata": {
  "kernelspec": {
   "display_name": "Python 3",
   "language": "python",
   "name": "python3"
  },
  "language_info": {
   "codemirror_mode": {
    "name": "ipython",
    "version": 3
   },
   "file_extension": ".py",
   "mimetype": "text/x-python",
   "name": "python",
   "nbconvert_exporter": "python",
   "pygments_lexer": "ipython3",
   "version": "3.8.5"
  }
 },
 "nbformat": 4,
 "nbformat_minor": 4
}