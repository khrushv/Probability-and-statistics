{
 "cells": [
  {
   "cell_type": "markdown",
   "metadata": {},
   "source": [
    "$𝐻_0$ : $\\mu = 1$\n",
    "\n",
    "$H_1$ : $\\mu < 1$\n",
    "\n",
    "Предположим, что ответ каждого человека независим и вероятность того, что дизайн понравится одинакова для всех и равна $\\mu$, тогда наш эксперимент представляет собой n независимых опытом Бернулли с вероятность успеха $\\mu$, то есть биноминальную схему с параметрами n и $\\mu$. Поэтому в качестве статистики возьмем $T(\\xi^n) = \\sum_{i=1}^n \\xi_i$ , где $\\xi_i$ принимает 1 если дизайн понравился и 0 в противном случае. Имеем следующий статистический критерий: Если $T(\\xi^n) <= n - 1$, то отклоняем нулевую гипотезу, в противном случае у нас недостаточно свидетельств для того чтобы отклонить  $𝐻_0$\n"
   ]
  },
  {
   "cell_type": "code",
   "execution_count": 16,
   "metadata": {},
   "outputs": [
    {
     "name": "stdout",
     "output_type": "stream",
     "text": [
      "59.0\n",
      "41.0\n"
     ]
    }
   ],
   "source": [
    "from scipy.stats import binom\n",
    "print(binom.ppf(q = 0.95, n = 100, p = 0.5) + 1)\n",
    "print(binom.ppf(q = 0.05, n = 100, p = 0.5) - 1)"
   ]
  },
  {
   "cell_type": "code",
   "execution_count": 72,
   "metadata": {},
   "outputs": [],
   "source": [
    "import numpy as np\n",
    "import math\n",
    "def get_n_for_given_power(a,b,u):\n",
    "    n_ = np.arange(start=1, stop=1000)\n",
    "    f_0 = [binom.cdf(k = c - 1, n = c, p = u) for c in n_]\n",
    "    print(n_[np.argmin([abs(b-x) for x in f_0])])"
   ]
  },
  {
   "cell_type": "code",
   "execution_count": 78,
   "metadata": {},
   "outputs": [
    {
     "name": "stdout",
     "output_type": "stream",
     "text": [
      "18\n"
     ]
    }
   ],
   "source": [
    " get_n_for_given_power(0,0.95,0.85)"
   ]
  },
  {
   "cell_type": "code",
   "execution_count": null,
   "metadata": {},
   "outputs": [],
   "source": []
  },
  {
   "cell_type": "code",
   "execution_count": null,
   "metadata": {},
   "outputs": [],
   "source": []
  }
 ],
 "metadata": {
  "kernelspec": {
   "display_name": "Python 3",
   "language": "python",
   "name": "python3"
  },
  "language_info": {
   "codemirror_mode": {
    "name": "ipython",
    "version": 3
   },
   "file_extension": ".py",
   "mimetype": "text/x-python",
   "name": "python",
   "nbconvert_exporter": "python",
   "pygments_lexer": "ipython3",
   "version": "3.8.5"
  }
 },
 "nbformat": 4,
 "nbformat_minor": 4
}
