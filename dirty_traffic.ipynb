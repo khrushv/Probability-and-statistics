{
 "cells": [
  {
   "cell_type": "markdown",
   "metadata": {},
   "source": [
    "\n",
    "\n",
    "$\n",
    "    \\xi \\sim \\text{multinomial}(n, \\{\\mu_1, \\mu_2, \\mu_3, \\mu_4\\}) =  \\text{multinomial}(n, \\mu^4)\n",
    "$\n",
    "\n",
    "\n",
    "$\n",
    "    H_0 : \\mu^4 = \\{0.15 ,0.20, 0.30, 0.35\\}\n",
    "$\n",
    "\n",
    "$\n",
    "    H_1 : \\mu^4 = \\left\\{\\frac{0.15}{1+k}+\\frac{k}{1+k} ,\\frac{0.20}{1+k}, \\frac{0.30}{1+k}, \\frac{0.35}{1+k}\\right\\}\n",
    "$\n",
    "\n",
    "$\n",
    "~~~~~~~\\text{или}~\\left\\{\\frac{0.15}{1+k},\\frac{0.20}{1+k}+\\frac{k}{1+k}, \\frac{0.30}{1+k}, \\frac{0.35}{1+k}\\right\\}\n",
    "$\n",
    "\n",
    "$\n",
    "~~~~~~~\\text{или}~\\left\\{\\frac{0.15}{1+k},\\frac{0.20}{1+k}, \\frac{0.30}{1+k}+\\frac{k}{1+k}, \\frac{0.35}{1+k}\\right\\}\n",
    "$\n",
    "\n",
    "$\n",
    "~~~~~~~\\text{или}~\\left\\{\\frac{0.15}{1+k},\\frac{0.20}{1+k}, \\frac{0.30}{1+k}, \\frac{0.35}{1+k}+\\frac{k}{1+k}\\right\\},~~~~k > 0\n",
    "$"
   ]
  },
  {
   "cell_type": "markdown",
   "metadata": {},
   "source": [
    "# four head z stat "
   ]
  },
  {
   "cell_type": "markdown",
   "metadata": {},
   "source": [
    "## 3.1"
   ]
  },
  {
   "cell_type": "markdown",
   "metadata": {},
   "source": [
    "\n",
    "$\n",
    "    Z = \\left| (\\frac{x_1 - \\mu_1}{\\mu_1\\cdot(1-\\mu_1) \\cdot n}) \\cdot \\sqrt{n} \\right| +\n",
    "     \\left| (\\frac{x_2 - \\mu_2}{\\mu_2\\cdot(2-\\mu_2) \\cdot n}) \\cdot \\sqrt{n} \\right| + \n",
    "      \\left| (\\frac{x_3 - \\mu_3}{\\mu_3\\cdot(3-\\mu_3) \\cdot n}) \\cdot \\sqrt{n} \\right| + \n",
    "       \\left| (\\frac{x_4 - \\mu_4}{\\mu_4\\cdot(4-\\mu_4) \\cdot n}) \\cdot \\sqrt{n} \\right|\n",
    "$"
   ]
  },
  {
   "cell_type": "code",
   "execution_count": 172,
   "metadata": {},
   "outputs": [],
   "source": [
    "from scipy.stats import multinomial\n",
    "import matplotlib.pyplot as plt\n",
    "import numpy as np"
   ]
  },
  {
   "cell_type": "code",
   "execution_count": 181,
   "metadata": {},
   "outputs": [],
   "source": [
    "def four_head_z_stat(rv):\n",
    "    p=[0.15, 0.20, 0.30, 0.35]\n",
    "    n = sum(rv)\n",
    "    var0 = p[0]*(1-p[0])*n\n",
    "    var1 = p[1]*(1-p[1])*n\n",
    "    var2 = p[2]*(1-p[2])*n\n",
    "    var3 = p[3]*(1-p[3])*n\n",
    "    a = rv[0] \n",
    "    b = rv[1] \n",
    "    c = rv[2] \n",
    "    d = rv[3] \n",
    "    mean0 = n * p[0]\n",
    "    mean1 = n * p[1]\n",
    "    mean2 = n * p[2]\n",
    "    mean3 = n * p[3]\n",
    "    return (abs(a-mean0)/(var0)*np.sqrt(n) + abs(b-mean1)/(var1)*np.sqrt(n) \n",
    "            +abs(c-mean2)/(var2)*np.sqrt(n) +abs(d-mean3)/(var3)*np.sqrt(n))"
   ]
  },
  {
   "cell_type": "code",
   "execution_count": 182,
   "metadata": {},
   "outputs": [],
   "source": [
    "def get_right_critical(alpha):\n",
    "    z_sample_distribution_H0 = [\n",
    "    four_head_z_stat(rv) for rv in multinomial.rvs(n = 100, p= [0.15, 0.20, 0.30, 0.35], size=100000)]\n",
    "    right_critical = np.percentile(a=z_sample_distribution_H0, q=100 * (1 - alpha))\n",
    "    print(f\"Right critical value: {right_critical}\")\n",
    "    return right_critical"
   ]
  },
  {
   "cell_type": "code",
   "execution_count": 185,
   "metadata": {},
   "outputs": [],
   "source": [
    "def four_head_z_stat_test(sample_rv, right_critical):      \n",
    "    z = four_head_z_stat(sample_rv)\n",
    "    if z >= right_critical:\n",
    "        return 1 # отклоняем H0, принимаем H1\n",
    "    else:\n",
    "        return 0 # не отклоняем H0"
   ]
  },
  {
   "cell_type": "code",
   "execution_count": 186,
   "metadata": {},
   "outputs": [
    {
     "name": "stdout",
     "output_type": "stream",
     "text": [
      "Right critical value: 13.545706744236156\n",
      "Do not reject the null hypothesis\n"
     ]
    }
   ],
   "source": [
    "sample_rv = multinomial.rvs(n=100, p=[0.15, 0.20, 0.30, 0.35], size=1)[0]\n",
    "alpha = 0.05\n",
    "right_critical = get_right_critical(alpha)\n",
    "if four_head_z_stat_test(sample_rv, right_critical):\n",
    "            print(\"Reject the null hypothesis\")\n",
    "else:\n",
    "            print(\"Do not reject the null hypothesis\")"
   ]
  },
  {
   "cell_type": "code",
   "execution_count": 187,
   "metadata": {},
   "outputs": [
    {
     "name": "stdout",
     "output_type": "stream",
     "text": [
      "Reject the null hypothesis\n"
     ]
    }
   ],
   "source": [
    "k = 0.25\n",
    "sample_rv = multinomial.rvs(n=100, p=[0.10/(k+1), 0.30/(k+1) + k/(k+1), \n",
    "                                      0.25/(k+1), 0.35/(k+1)], size=1)[0]\n",
    "if four_head_z_stat_test(sample_rv, right_critical):\n",
    "            print(\"Reject the null hypothesis\")\n",
    "else:\n",
    "            print(\"Do not reject the null hypothesis\")"
   ]
  },
  {
   "cell_type": "markdown",
   "metadata": {},
   "source": [
    "## 3.2"
   ]
  },
  {
   "cell_type": "code",
   "execution_count": null,
   "metadata": {},
   "outputs": [],
   "source": [
    "def get_stat_power(k, right_critical_value, n_of_provider = 1, size_of_sample = 2000):\n",
    "    if n_of_provider == 1:\n",
    "        p_ = [0.15/(k+1) + k/(k+1), 0.20/(k+1), 0.30/(k+1), 0.35/(k+1)]\n",
    "    elif n_of_provider == 2:\n",
    "        p_ = [0.15/(k+1), 0.20/(k+1) + k/(k+1), 0.30/(k+1), 0.35/(k+1)]\n",
    "    elif n_of_provider == 3:\n",
    "        p_ = [0.15/(k+1), 0.20/(k+1), 0.3/(k+1) + k/(k+1), 0.35/(k+1)]\n",
    "    elif n_of_provider == 4:\n",
    "        p_ = [0.15/(k+1), 0.20/(k+1) , 0.3/(k+1), 0.35/(k+1)+ k/(k+1)]    \n",
    "    z_sample_distribution = [four_head_z_stat(rv) for rv in multinomial.rvs(n = 100, p= p_, size=size_of_sample)]\n",
    "    b = len([rv for rv in  z_sample_distribution if rv < right_critical_value])/size_of_sample\n",
    "    return 1 - b"
   ]
  },
  {
   "cell_type": "code",
   "execution_count": 188,
   "metadata": {},
   "outputs": [],
   "source": [
    "powers = []\n",
    "k_ = np.arange(0, 0.5, 0.05)\n",
    "for k in k_:\n",
    "    powers.append(get_stat_power(k, right_critical))"
   ]
  },
  {
   "cell_type": "code",
   "execution_count": 189,
   "metadata": {},
   "outputs": [
    {
     "data": {
      "image/png": "[encoded data removed]",
      "text/plain": [
       "<Figure size 432x288 with 1 Axes>"
      ]
     },
     "metadata": {
      "needs_background": "light"
     },
     "output_type": "display_data"
    }
   ],
   "source": [
    "plt.plot(k_, powers, linewidth=5.0)\n",
    "plt.ylabel('Power')\n",
    "plt.xlabel('K')\n",
    "plt.show()\n",
    "\n",
    "fig, axs = plt.subplots(2)\n",
    "fig.suptitle('Vertically stacked subplots')\n",
    "axs[0].plot(x, y)\n",
    "axs[1].plot(x, -y)"
   ]
  },
  {
   "cell_type": "markdown",
   "metadata": {},
   "source": [
    "## 3.3"
   ]
  },
  {
   "cell_type": "code",
   "execution_count": 196,
   "metadata": {},
   "outputs": [],
   "source": [
    "powers = []\n",
    "k_ = np.arange(0, 0.5, 0.05)\n",
    "for i, n_of_prov in enumerate(range(1, 5)):\n",
    "    powers.append([])\n",
    "    for k in k_:\n",
    "        powers[i].append(get_stat_power(k, right_critical,  n_of_prov))"
   ]
  },
  {
   "cell_type": "code",
   "execution_count": 198,
   "metadata": {},
   "outputs": [
    {
     "data": {
      "text/plain": [
       "[<matplotlib.lines.Line2D at 0x176ad760>]"
      ]
     },
     "execution_count": 198,
     "metadata": {},
     "output_type": "execute_result"
    },
    {
     "data": {
      "image/png": "[encoded data removed]",
      "text/plain": [
       "<Figure size 432x288 with 4 Axes>"
      ]
     },
     "metadata": {
      "needs_background": "light"
     },
     "output_type": "display_data"
    }
   ],
   "source": [
    "fig, ((ax1, ax2), (ax3, ax4)) = plt.subplots(2, 2)\n",
    "fig.suptitle('Powers depending on the provider')\n",
    "ax1.plot(k_, powers[0])\n",
    "ax2.plot(k_, powers[1])\n",
    "ax3.plot(k_, powers[2])\n",
    "ax4.plot(k_, powers[3])"
   ]
  },
  {
   "cell_type": "code",
   "execution_count": 219,
   "metadata": {},
   "outputs": [
    {
     "name": "stdout",
     "output_type": "stream",
     "text": [
      "The value of power for different providers, k = 0.2: 0.6685, 0.497, 0.31899999999999995, 0.26549999999999996\n"
     ]
    }
   ],
   "source": [
    "print(f\"The value of power for different providers, k = 0.2: {powers[0][3]}, {powers[1][3]}, {powers[2][3]}, {powers[3][3]}\")"
   ]
  },
  {
   "cell_type": "markdown",
   "metadata": {},
   "source": [
    "По графику можем сделать вывод о том, что четвертого провайдера поставщику лучше выбрать для своего жульничества, так как для него получается наименьшая мощность. "
   ]
  }
 ],
 "metadata": {
  "kernelspec": {
   "display_name": "Python 3",
   "language": "python",
   "name": "python3"
  },
  "language_info": {
   "codemirror_mode": {
    "name": "ipython",
    "version": 3
   },
   "file_extension": ".py",
   "mimetype": "text/x-python",
   "name": "python",
   "nbconvert_exporter": "python",
   "pygments_lexer": "ipython3",
   "version": "3.8.5"
  }
 },
 "nbformat": 4,
 "nbformat_minor": 4
}