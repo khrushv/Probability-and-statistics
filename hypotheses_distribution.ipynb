{
 "cells": [
  {
   "cell_type": "markdown",
   "metadata": {},
   "source": [
    "# Simple data analysis"
   ]
  },
  {
   "cell_type": "code",
   "execution_count": 28,
   "metadata": {},
   "outputs": [],
   "source": [
    "# Standard Data Science Helpers\n",
    "%matplotlib inline\n",
    "import numpy as np\n",
    "import pandas as pd\n",
    "import matplotlib.pyplot as plt\n",
    "import matplotlib\n",
    "import scipy\n",
    "from scipy import stats\n",
    "from scipy.integrate import quad\n",
    "from scipy.stats import uniform\n",
    "from scipy.stats import mode\n"
   ]
  },
  {
   "cell_type": "code",
   "execution_count": 29,
   "metadata": {},
   "outputs": [
    {
     "name": "stdout",
     "output_type": "stream",
     "text": [
      "Размах выборки:  15.829999999999998\n",
      "Вариационный ряд:  [0.23, 0.52, 1.55, 1.71, 2.28, 3.21, 3.55, 3.92, 4.03, 4.13, 4.68, 4.78, 5.12, 5.7, 5.99, 6.31, 6.37, 6.5, 6.68, 6.72, 7.41, 7.57, 8.12, 8.15, 8.34, 8.51, 8.88, 9.65, 9.75, 9.77, 10.05, 10.18, 10.24, 11.34, 11.43, 11.51, 11.91, 12.26, 12.28, 14.0, 14.38, 14.4, 14.59, 14.64, 14.65, 14.68, 14.93, 15.45, 15.99, 16.06]\n"
     ]
    }
   ],
   "source": [
    "data = pd.Series([8.51, 1.55, 10.18, 12.28, 3.55, 3.92, 15.99, 6.31, 6.68, 14.59, \n",
    "        2.28,5.70, 12.26, 11.91, 11.51, 4.03, 11.34, 3.21, 7.41,  0.23, \n",
    "        8.34, 6.37, 14.65, 4.13, 0.52, 9.75, 7.57, 10.05, 4.68,   8.88, \n",
    "        5.99, 14.68, 14.64, 16.06, 6.72, 14.40, 8.15, 9.77, 8.12, 15.45,\n",
    "        14.00, 9.65, 6.50, 5.12, 14.93, 1.71, 4.78, 14.38, 11.43, 10.24])\n",
    "bin_counts = 7 #specified number of half-open bins\n",
    "variational_series = sorted(data)\n",
    "sample_range = variational_series[-1] - variational_series[0]\n",
    "print(\"Размах выборки: \", sample_range)\n",
    "print(\"Вариационный ряд: \", variational_series)"
   ]
  },
  {
   "cell_type": "code",
   "execution_count": 30,
   "metadata": {},
   "outputs": [],
   "source": [
    "frequency_table = data.value_counts(bins = bin_counts).sort_index().reset_index()\n",
    "frequency_table.columns = ['Разряд','Частота']\n",
    "middle_bin_column = pd.Series(list(map(lambda b: (b.right + b.left)/2, frequency_table['Разряд'])))\n",
    "frequency_table.insert(1,\"Середина разряда\", middle_bin_column)\n",
    "normalized_frequency_column = pd.Series(list(map(lambda n: n/data.size, frequency_table['Частота'])))\n",
    "frequency_table.insert(3,\"Относительная частота\", normalized_frequency_column)"
   ]
  },
  {
   "cell_type": "code",
   "execution_count": 31,
   "metadata": {},
   "outputs": [],
   "source": [
    "def relative_accumulated_frequency(normalized_frequency):\n",
    "    rel_accum_frequency = []\n",
    "    for i in range(len(normalized_frequency)):\n",
    "        sum = 0\n",
    "        for j in range(i + 1):\n",
    "            sum += normalized_frequency[j]\n",
    "        rel_accum_frequency.append(sum)\n",
    "    return  rel_accum_frequency"
   ]
  },
  {
   "cell_type": "code",
   "execution_count": 32,
   "metadata": {},
   "outputs": [
    {
     "data": {
      "text/html": [
       "<div>\n",
       "<style scoped>\n",
       "    .dataframe tbody tr th:only-of-type {\n",
       "        vertical-align: middle;\n",
       "    }\n",
       "\n",
       "    .dataframe tbody tr th {\n",
       "        vertical-align: top;\n",
       "    }\n",
       "\n",
       "    .dataframe thead th {\n",
       "        text-align: right;\n",
       "    }\n",
       "</style>\n",
       "<table border=\"1\" class=\"dataframe\">\n",
       "  <thead>\n",
       "    <tr style=\"text-align: right;\">\n",
       "      <th></th>\n",
       "      <th>Разряд</th>\n",
       "      <th>Середина разряда</th>\n",
       "      <th>Частота</th>\n",
       "      <th>Относительная частота</th>\n",
       "      <th>Относительная накопленная частота</th>\n",
       "    </tr>\n",
       "  </thead>\n",
       "  <tbody>\n",
       "    <tr>\n",
       "      <th>0</th>\n",
       "      <td>(0.213, 2.491]</td>\n",
       "      <td>1.3520</td>\n",
       "      <td>5</td>\n",
       "      <td>0.10</td>\n",
       "      <td>0.10</td>\n",
       "    </tr>\n",
       "    <tr>\n",
       "      <th>1</th>\n",
       "      <td>(2.491, 4.753]</td>\n",
       "      <td>3.6220</td>\n",
       "      <td>6</td>\n",
       "      <td>0.12</td>\n",
       "      <td>0.22</td>\n",
       "    </tr>\n",
       "    <tr>\n",
       "      <th>2</th>\n",
       "      <td>(4.753, 7.014]</td>\n",
       "      <td>5.8835</td>\n",
       "      <td>9</td>\n",
       "      <td>0.18</td>\n",
       "      <td>0.40</td>\n",
       "    </tr>\n",
       "    <tr>\n",
       "      <th>3</th>\n",
       "      <td>(7.014, 9.276]</td>\n",
       "      <td>8.1450</td>\n",
       "      <td>7</td>\n",
       "      <td>0.14</td>\n",
       "      <td>0.54</td>\n",
       "    </tr>\n",
       "    <tr>\n",
       "      <th>4</th>\n",
       "      <td>(9.276, 11.537]</td>\n",
       "      <td>10.4065</td>\n",
       "      <td>9</td>\n",
       "      <td>0.18</td>\n",
       "      <td>0.72</td>\n",
       "    </tr>\n",
       "    <tr>\n",
       "      <th>5</th>\n",
       "      <td>(11.537, 13.799]</td>\n",
       "      <td>12.6680</td>\n",
       "      <td>3</td>\n",
       "      <td>0.06</td>\n",
       "      <td>0.78</td>\n",
       "    </tr>\n",
       "    <tr>\n",
       "      <th>6</th>\n",
       "      <td>(13.799, 16.06]</td>\n",
       "      <td>14.9295</td>\n",
       "      <td>11</td>\n",
       "      <td>0.22</td>\n",
       "      <td>1.00</td>\n",
       "    </tr>\n",
       "  </tbody>\n",
       "</table>\n",
       "</div>"
      ],
      "text/plain": [
       "             Разряд  Середина разряда  Частота  Относительная частота  \\\n",
       "0    (0.213, 2.491]            1.3520        5                   0.10   \n",
       "1    (2.491, 4.753]            3.6220        6                   0.12   \n",
       "2    (4.753, 7.014]            5.8835        9                   0.18   \n",
       "3    (7.014, 9.276]            8.1450        7                   0.14   \n",
       "4   (9.276, 11.537]           10.4065        9                   0.18   \n",
       "5  (11.537, 13.799]           12.6680        3                   0.06   \n",
       "6   (13.799, 16.06]           14.9295       11                   0.22   \n",
       "\n",
       "   Относительная накопленная частота  \n",
       "0                               0.10  \n",
       "1                               0.22  \n",
       "2                               0.40  \n",
       "3                               0.54  \n",
       "4                               0.72  \n",
       "5                               0.78  \n",
       "6                               1.00  "
      ]
     },
     "execution_count": 32,
     "metadata": {},
     "output_type": "execute_result"
    }
   ],
   "source": [
    "relative_accumulated_frequency_column = pd.Series(relative_accumulated_frequency(normalized_frequency_column))\n",
    "frequency_table.insert(4,\"Относительная накопленная частота\", relative_accumulated_frequency_column)\n",
    "frequency_table"
   ]
  },
  {
   "cell_type": "code",
   "execution_count": 33,
   "metadata": {
    "scrolled": false
   },
   "outputs": [
    {
     "data": {
      "text/plain": [
       "Text(0, 0.5, 'nj / nd')"
      ]
     },
     "execution_count": 33,
     "metadata": {},
     "output_type": "execute_result"
    },
    {
     "data": {
      "image/png": "[encoded data removed]",
      "text/plain": [
       "<Figure size 720x504 with 1 Axes>"
      ]
     },
     "metadata": {
      "needs_background": "light"
     },
     "output_type": "display_data"
    }
   ],
   "source": [
    "plt.figure(figsize=(10, 7))\n",
    "font = {'weight' : 'bold',\n",
    "        'size'   : 15}\n",
    "matplotlib.rc('font', **font)\n",
    "n, x, _ = plt.hist(data, bins = 7,color='green',alpha=0.7,edgecolor='black', density = True)\n",
    "bin_centers = 0.5*(x[1:]+x[:-1])\n",
    "x = np.linspace(data.mean() - 3*data.std(), data.mean() + 3*data.std(), 1000)\n",
    "plt.plot(bin_centers,n, color = \"black\", marker='o')\n",
    "plt.plot(x, stats.uniform.pdf(x, loc = 0.94, scale = 16.46 - 0.94), color = \"red\")\n",
    "plt.xlabel(\"x\")\n",
    "plt.ylabel(\"nj / nd\")\n"
   ]
  },
  {
   "cell_type": "code",
   "execution_count": 34,
   "metadata": {},
   "outputs": [
    {
     "data": {
      "text/plain": [
       "Text(0, 0.5, 'F(x)')"
      ]
     },
     "execution_count": 34,
     "metadata": {},
     "output_type": "execute_result"
    },
    {
     "data": {
      "image/png": "[encoded data removed]",
      "text/plain": [
       "<Figure size 720x504 with 1 Axes>"
      ]
     },
     "metadata": {
      "needs_background": "light"
     },
     "output_type": "display_data"
    }
   ],
   "source": [
    "plt.figure(figsize=(10, 7))\n",
    "font = {'weight' : 'bold',\n",
    "        'size'   : 15}\n",
    "matplotlib.rc('font', **font)\n",
    "n, x, _ = plt.hist(data, linewidth=5,bins = bin_counts,color='green',alpha=0.7,edgecolor='black', density = True, cumulative = True,histtype='step')\n",
    "plt.xlabel(\"x\")\n",
    "plt.ylabel(\"F(x)\")"
   ]
  },
  {
   "cell_type": "code",
   "execution_count": 35,
   "metadata": {
    "scrolled": true
   },
   "outputs": [
    {
     "name": "stdout",
     "output_type": "stream",
     "text": [
      "Выборочные числовые характеристики негруппированной выборки\n",
      "Математическое ожидание:  8.702\n",
      "Смещенная дисперсия:  19.676424\n",
      "Несмещенная дисперсия:  20.077983673469387\n",
      "Медиана:  8.425\n",
      "Мода:  16.06\n",
      "Выборочные числовые характеристики группированной выборки\n",
      "Выборочное среднее:  8.686910000000001\n",
      "Выборочная дисперсия:  19.970828136899996\n",
      "Выборочная мода:  16.06042857142857\n",
      "Выборочная медиана:  8.62930612244898\n"
     ]
    }
   ],
   "source": [
    "print(\"Выборочные числовые характеристики негруппированной выборки\")\n",
    "print(\"Математическое ожидание: \", data.mean())\n",
    "print(\"Смещенная дисперсия: \", data.std(ddof = 0)**2)\n",
    "print(\"Несмещенная дисперсия: \", data.std()**2)\n",
    "print(\"Медиана: \", data.median())\n",
    "print(\"Мода: \", data.mode()[data.size-1])\n",
    "print(\"Выборочные числовые характеристики группированной выборки\")\n",
    "tmp = list(map(lambda j: middle_bin_column[j]*frequency_table['Частота'][j],[x for x in range(bin_counts)]))\n",
    "s_mean = sum(tmp)/data.size\n",
    "print(\"Выборочное среднее: \", s_mean)\n",
    "tmp = list(map(lambda j: (middle_bin_column[j]-s_mean)**2*frequency_table['Частота'][j],[x for x in range(bin_counts)]))\n",
    "s_disp = sum(tmp)/data.size\n",
    "print(\"Выборочная дисперсия: \", s_disp)\n",
    "imax = frequency_table['Частота'].idxmax()\n",
    "s_mode = frequency_table[\"Разряд\"][imax].left + ((frequency_table[\"Частота\"][imax] - frequency_table[\"Частота\"][imax - 1])/(2*frequency_table[\"Частота\"][imax] - frequency_table[\"Частота\"][imax - 1] - frequency_table[\"Частота\"][imax]))*sample_range/bin_counts\n",
    "print(\"Выборочная мода: \", s_mode)\n",
    "s_median = frequency_table[\"Разряд\"][3].left + ((data.size/2 - sum([frequency_table[\"Частота\"][j] for j in range(3)]))/frequency_table[\"Частота\"][3])*sample_range/bin_counts\n",
    "print(\"Выборочная медиана: \", s_median)"
   ]
  },
  {
   "cell_type": "code",
   "execution_count": 36,
   "metadata": {},
   "outputs": [
    {
     "data": {
      "text/html": [
       "<div>\n",
       "<style scoped>\n",
       "    .dataframe tbody tr th:only-of-type {\n",
       "        vertical-align: middle;\n",
       "    }\n",
       "\n",
       "    .dataframe tbody tr th {\n",
       "        vertical-align: top;\n",
       "    }\n",
       "\n",
       "    .dataframe thead th {\n",
       "        text-align: right;\n",
       "    }\n",
       "</style>\n",
       "<table border=\"1\" class=\"dataframe\">\n",
       "  <thead>\n",
       "    <tr style=\"text-align: right;\">\n",
       "      <th></th>\n",
       "      <th>Разряд</th>\n",
       "      <th>Середина разряда</th>\n",
       "      <th>Частота</th>\n",
       "      <th>Относительная частота</th>\n",
       "      <th>Относительная накопленная частота</th>\n",
       "    </tr>\n",
       "  </thead>\n",
       "  <tbody>\n",
       "    <tr>\n",
       "      <th>0</th>\n",
       "      <td>(0.213, 2.491]</td>\n",
       "      <td>1.3520</td>\n",
       "      <td>5</td>\n",
       "      <td>0.10</td>\n",
       "      <td>0.10</td>\n",
       "    </tr>\n",
       "    <tr>\n",
       "      <th>1</th>\n",
       "      <td>(2.491, 4.753]</td>\n",
       "      <td>3.6220</td>\n",
       "      <td>6</td>\n",
       "      <td>0.12</td>\n",
       "      <td>0.22</td>\n",
       "    </tr>\n",
       "    <tr>\n",
       "      <th>2</th>\n",
       "      <td>(4.753, 7.014]</td>\n",
       "      <td>5.8835</td>\n",
       "      <td>9</td>\n",
       "      <td>0.18</td>\n",
       "      <td>0.40</td>\n",
       "    </tr>\n",
       "    <tr>\n",
       "      <th>3</th>\n",
       "      <td>(7.014, 9.276]</td>\n",
       "      <td>8.1450</td>\n",
       "      <td>7</td>\n",
       "      <td>0.14</td>\n",
       "      <td>0.54</td>\n",
       "    </tr>\n",
       "    <tr>\n",
       "      <th>4</th>\n",
       "      <td>(9.276, 13.799]</td>\n",
       "      <td>11.5400</td>\n",
       "      <td>12</td>\n",
       "      <td>0.24</td>\n",
       "      <td>0.78</td>\n",
       "    </tr>\n",
       "    <tr>\n",
       "      <th>5</th>\n",
       "      <td>(13.799, 16.06]</td>\n",
       "      <td>14.9295</td>\n",
       "      <td>11</td>\n",
       "      <td>0.22</td>\n",
       "      <td>1.00</td>\n",
       "    </tr>\n",
       "  </tbody>\n",
       "</table>\n",
       "</div>"
      ],
      "text/plain": [
       "            Разряд  Середина разряда  Частота  Относительная частота  \\\n",
       "0   (0.213, 2.491]            1.3520        5                   0.10   \n",
       "1   (2.491, 4.753]            3.6220        6                   0.12   \n",
       "2   (4.753, 7.014]            5.8835        9                   0.18   \n",
       "3   (7.014, 9.276]            8.1450        7                   0.14   \n",
       "4  (9.276, 13.799]           11.5400       12                   0.24   \n",
       "5  (13.799, 16.06]           14.9295       11                   0.22   \n",
       "\n",
       "   Относительная накопленная частота  \n",
       "0                               0.10  \n",
       "1                               0.22  \n",
       "2                               0.40  \n",
       "3                               0.54  \n",
       "4                               0.78  \n",
       "5                               1.00  "
      ]
     },
     "execution_count": 36,
     "metadata": {},
     "output_type": "execute_result"
    }
   ],
   "source": [
    "row_6 = frequency_table.loc[6]\n",
    "frequency_table = frequency_table.drop([4,5,6])\n",
    "new_row = {'Разряд':pd.Interval(left = 9.276, right = 13.799), 'Частота':12, 'Середина разряда':11.54, 'Относительная частота':0.24,\"Относительная накопленная частота\":0.78}\n",
    "frequency_table = frequency_table.append(new_row, ignore_index=True)\n",
    "frequency_table = frequency_table.append(row_6, ignore_index = True)\n",
    "frequency_table"
   ]
  },
  {
   "cell_type": "markdown",
   "metadata": {},
   "source": [
    "Необходимое условие применения критерия \"хи-квадрат\"($n_{j}$ >= 5) выполняется. Требуется на уровне значимости a = 0.05 проверить гипотезу о том, что генеральная совокупность данной выборки распределена по равномерному распределению."
   ]
  },
  {
   "cell_type": "code",
   "execution_count": 37,
   "metadata": {
    "scrolled": false
   },
   "outputs": [
    {
     "name": "stdout",
     "output_type": "stream",
     "text": [
      "Среднее -  8.702\n",
      "Стандартное отклонение - 4.480846312190297\n",
      "a -  0.9409465263787702\n",
      "b -  16.46305347362123\n"
     ]
    }
   ],
   "source": [
    "#Воспользуемся МП-оценкой параметров a и b\n",
    "a = data.mean() - np.sqrt(3)*data.std()\n",
    "b = data.mean() + np.sqrt(3)*data.std()\n",
    "print(\"Среднее - \", data.mean())\n",
    "print(\"Стандартное отклонение -\", data.std())\n",
    "print(\"a - \",a)\n",
    "print(\"b - \",b)"
   ]
  },
  {
   "cell_type": "markdown",
   "metadata": {},
   "source": [
    "2) Найдем вероятности $p_i$ попадания случайной величины в каждый из интервалов:"
   ]
  },
  {
   "cell_type": "code",
   "execution_count": 38,
   "metadata": {},
   "outputs": [
    {
     "name": "stdout",
     "output_type": "stream",
     "text": [
      "Вероятности попадания в кажды из интервалов:  [0.1467584270448988, 0.14572763914642717, 0.1456632149027727, 0.14572763914642714, 0.29139085404919984, 0.14566321490277265]\n"
     ]
    }
   ],
   "source": [
    "probability_of_bins = list(map(lambda bin: quad(lambda x: 1/(b-a), bin.left, bin.right), frequency_table[\"Разряд\"]))\n",
    "theoretical_frequencies = [data.size * x[0] for x in probability_of_bins]\n",
    "print(\"Вероятности попадания в кажды из интервалов: \", [x[0] for x in probability_of_bins])"
   ]
  },
  {
   "cell_type": "code",
   "execution_count": 39,
   "metadata": {},
   "outputs": [],
   "source": [
    "xi_j1 = []\n",
    "for j in range(6):\n",
    "    xi_j1.append(((frequency_table[\"Частота\"][j] - theoretical_frequencies[j])**2) / theoretical_frequencies[j])"
   ]
  },
  {
   "cell_type": "code",
   "execution_count": 40,
   "metadata": {},
   "outputs": [
    {
     "name": "stdout",
     "output_type": "stream",
     "text": [
      "Хи-квадрат распределения =  3.7379495620787084\n"
     ]
    }
   ],
   "source": [
    "print(\"Хи-квадрат распределения = \", np.sum(xi_j1))"
   ]
  },
  {
   "cell_type": "markdown",
   "metadata": {},
   "source": [
    "r = 6, k = 2 -> r - k - 1 = 3"
   ]
  },
  {
   "cell_type": "code",
   "execution_count": 41,
   "metadata": {},
   "outputs": [
    {
     "data": {
      "text/plain": [
       "7.814727903251179"
      ]
     },
     "execution_count": 41,
     "metadata": {},
     "output_type": "execute_result"
    }
   ],
   "source": [
    "stats.chi2.ppf(0.95, 3)"
   ]
  },
  {
   "cell_type": "markdown",
   "metadata": {},
   "source": [
    "Требуется на уровне значимости a = 0.05 проверить гипотезу о том, что генеральная совокупность данной выборки распределена по экспоненциальному распределению."
   ]
  },
  {
   "cell_type": "code",
   "execution_count": 42,
   "metadata": {},
   "outputs": [],
   "source": [
    "l = 1/10.49\n",
    "f_exp = lambda x: l*np.exp(-1*l*x)"
   ]
  },
  {
   "cell_type": "code",
   "execution_count": 43,
   "metadata": {},
   "outputs": [
    {
     "name": "stdout",
     "output_type": "stream",
     "text": [
      "Вероятности попадания в кажды из интервалов:  [0.1912746244129959, 0.15296936618709275, 0.12324910016447248, 0.09939135470338117, 0.14465992095455343, 0.05203218250316295]\n"
     ]
    }
   ],
   "source": [
    "probability_of_bins = list(map(lambda bin: quad(f_exp, bin.left, bin.right), frequency_table[\"Разряд\"]))\n",
    "theoretical_frequencies = [data.size * x[0] for x in probability_of_bins]\n",
    "print(\"Вероятности попадания в кажды из интервалов: \", [x[0] for x in probability_of_bins])"
   ]
  },
  {
   "cell_type": "code",
   "execution_count": 44,
   "metadata": {},
   "outputs": [],
   "source": [
    "xi_j2 = []\n",
    "for j in range(6):\n",
    "    xi_j2.append((frequency_table[\"Частота\"][j] - theoretical_frequencies[j])**2 / theoretical_frequencies[j])"
   ]
  },
  {
   "cell_type": "code",
   "execution_count": 45,
   "metadata": {},
   "outputs": [
    {
     "name": "stdout",
     "output_type": "stream",
     "text": [
      "Хи-квадрат распределения =  34.92225881021647\n"
     ]
    }
   ],
   "source": [
    "print(\"Хи-квадрат распределения = \", np.sum(xi_j2))"
   ]
  },
  {
   "cell_type": "code",
   "execution_count": 46,
   "metadata": {},
   "outputs": [
    {
     "data": {
      "text/plain": [
       "9.487729036781154"
      ]
     },
     "execution_count": 46,
     "metadata": {},
     "output_type": "execute_result"
    }
   ],
   "source": [
    "stats.chi2.ppf(0.95, 4)"
   ]
  },
  {
   "cell_type": "code",
   "execution_count": 47,
   "metadata": {},
   "outputs": [],
   "source": [
    "#Поскольку 41.39 > 9.48, то есть основания отвергать гпиотезу о экспоненциальном распределении"
   ]
  },
  {
   "cell_type": "code",
   "execution_count": 48,
   "metadata": {},
   "outputs": [],
   "source": [
    "import math\n",
    "def normpdf(x):\n",
    "    sd = data.std()\n",
    "    mean = data.mean()\n",
    "    var = float(sd)**2\n",
    "    denom = (2*math.pi*var)**.5\n",
    "    num = math.exp(-(float(x)-float(mean))**2/(2*var))\n",
    "    return num/denom"
   ]
  },
  {
   "cell_type": "code",
   "execution_count": 49,
   "metadata": {},
   "outputs": [
    {
     "name": "stdout",
     "output_type": "stream",
     "text": [
      "Вероятности попадания в кажды из интервалов:  [0.053776020278835844, 0.1062210979155045, 0.16411696169010026, 0.19777252417983815, 0.32137167882417617, 0.07737833406927903]\n"
     ]
    }
   ],
   "source": [
    "probability_of_bins = list(map(lambda bin: quad(normpdf, bin.left, bin.right), frequency_table[\"Разряд\"]))\n",
    "theoretical_frequencies = [data.size * x[0] for x in probability_of_bins]\n",
    "print(\"Вероятности попадания в кажды из интервалов: \", [x[0] for x in probability_of_bins])"
   ]
  },
  {
   "cell_type": "code",
   "execution_count": 50,
   "metadata": {},
   "outputs": [],
   "source": [
    "xi_j3 = []\n",
    "for j in range(6):\n",
    "    xi_j3.append((frequency_table[\"Частота\"][j] - theoretical_frequencies[j])**2 / theoretical_frequencies[j])\n"
   ]
  },
  {
   "cell_type": "code",
   "execution_count": 51,
   "metadata": {},
   "outputs": [
    {
     "name": "stdout",
     "output_type": "stream",
     "text": [
      "Хи-квадрат распределения =  17.170657146319957\n"
     ]
    }
   ],
   "source": [
    "print(\"Хи-квадрат распределения = \", np.sum(xi_j3))"
   ]
  },
  {
   "cell_type": "code",
   "execution_count": 52,
   "metadata": {},
   "outputs": [],
   "source": [
    "#Поскольку 17.17 > 9.48, то есть основания отвергать гпиотезу о нормальном распределении"
   ]
  },
  {
   "cell_type": "code",
   "execution_count": 53,
   "metadata": {},
   "outputs": [
    {
     "data": {
      "image/png": "[encoded data removed]",
      "text/plain": [
       "<Figure size 720x504 with 1 Axes>"
      ]
     },
     "metadata": {
      "needs_background": "light"
     },
     "output_type": "display_data"
    }
   ],
   "source": [
    "plt.figure(figsize=(10, 7))\n",
    "font = {'weight' : 'bold',\n",
    "        'size'   : 15}\n",
    "x = np.linspace(data.mean() - 3*data.std(), data.mean() + 3*data.std(), 1000)\n",
    "plt.plot(x, stats.norm.pdf(x, data.mean(), data.std()), color = \"black\")\n",
    "plt.plot(x, stats.expon.pdf(x,scale = data.mean()), color = \"blue\")\n",
    "plt.plot(x, stats.uniform.pdf(x, loc = a, scale = b - a), color = \"red\")\n",
    "n, x, _ = plt.hist(data, bins = 7,color='purple',alpha=0.7,edgecolor='black', density = True)"
   ]
  },
  {
   "cell_type": "code",
   "execution_count": null,
   "metadata": {},
   "outputs": [],
   "source": []
  },
  {
   "cell_type": "code",
   "execution_count": null,
   "metadata": {},
   "outputs": [],
   "source": []
  }
 ],
 "metadata": {
  "kernelspec": {
   "display_name": "Python 3",
   "language": "python",
   "name": "python3"
  },
  "language_info": {
   "codemirror_mode": {
    "name": "ipython",
    "version": 3
   },
   "file_extension": ".py",
   "mimetype": "text/x-python",
   "name": "python",
   "nbconvert_exporter": "python",
   "pygments_lexer": "ipython3",
   "version": "3.7.4"
  }
 },
 "nbformat": 4,
 "nbformat_minor": 4
}
